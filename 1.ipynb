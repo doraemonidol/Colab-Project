{
  "cells": [
    {
      "cell_type": "markdown",
      "metadata": {
        "colab_type": "text",
        "id": "view-in-github"
      },
      "source": [
        "<a href=\"https://colab.research.google.com/github/doraemonidol/Colab-Project/blob/main/FCFS.ipynb\" target=\"_parent\"><img src=\"https://colab.research.google.com/assets/colab-badge.svg\" alt=\"Open In Colab\"/></a>"
      ]
    },
    {
      "cell_type": "markdown",
      "metadata": {},
      "source": [
        "# 1. Import Library"
      ]
    },
    {
      "cell_type": "code",
      "execution_count": 1,
      "metadata": {},
      "outputs": [],
      "source": [
        "import pandas as pd\n",
        "import matplotlib as mpl\n",
        "import matplotlib.pyplot as plt"
      ]
    },
    {
      "cell_type": "markdown",
      "metadata": {},
      "source": [
        "# 2. Job Class"
      ]
    },
    {
      "cell_type": "code",
      "execution_count": 2,
      "metadata": {
        "id": "oCCBna8bNpjH"
      },
      "outputs": [],
      "source": [
        "class JobSequence:\n",
        "    def __init__(self, job, processingTime, weight):\n",
        "        self.job = job\n",
        "        self.processingTime = processingTime\n",
        "        self.weight = weight\n",
        "        self.flowTime = 0\n",
        "        self.jobLateness = 0"
      ]
    },
    {
      "cell_type": "markdown",
      "metadata": {},
      "source": [
        "# 3. Input"
      ]
    },
    {
      "cell_type": "markdown",
      "metadata": {},
      "source": [
        "## 3.1. Input from File"
      ]
    },
    {
      "cell_type": "code",
      "execution_count": 3,
      "metadata": {},
      "outputs": [],
      "source": [
        "jobs = []\n",
        "# Read data from data.txt\n",
        "with open('data.txt', 'r') as f:\n",
        "    for line in f:\n",
        "        job, processingTime, weight = line.split(';')\n",
        "        jobs.append(JobSequence(job, int(processingTime), int(weight)))"
      ]
    },
    {
      "cell_type": "markdown",
      "metadata": {},
      "source": [
        "## 3.2. Input from Keyboard"
      ]
    },
    {
      "cell_type": "code",
      "execution_count": 4,
      "metadata": {},
      "outputs": [],
      "source": [
        "# print(\"Enter the number of jobs: \")\n",
        "# n = int(input())\n",
        "# jobs = []\n",
        "# for i in range(n):\n",
        "#     print(\"Enter the processing time and due date for job \", i+1, \":\")\n",
        "#     print(\"  + Job name: \", end = \"\")\n",
        "#     job = input()\n",
        "#     print(\"  + Processing time: \", end = \"\")\n",
        "#     processingTime = int(input())\n",
        "#     print(\"  + Due date: \", end = \"\")\n",
        "#     dueDate = int(input())\n",
        "#     jobs.append(JobSequence(job, processingTime, dueDate))"
      ]
    },
    {
      "cell_type": "markdown",
      "metadata": {},
      "source": [
        "# 4. Sequencing Jobs"
      ]
    },
    {
      "cell_type": "code",
      "execution_count": 5,
      "metadata": {},
      "outputs": [],
      "source": [
        "def printJobs(jobs):\n",
        "    for job in jobs:\n",
        "        if job != jobs[-1]:\n",
        "            print(job.job, end = \"-\")\n",
        "        else:\n",
        "            print(job.job, end = \"\")"
      ]
    },
    {
      "cell_type": "code",
      "execution_count": 6,
      "metadata": {},
      "outputs": [],
      "source": [
        "def calculateFlowTime(jobs):\n",
        "    totalFlowTime = 0\n",
        "    for i in range(len(jobs)):\n",
        "        totalFlowTime += jobs[i].processingTime\n",
        "        jobs[i].flowTime = totalFlowTime\n",
        "        jobs[i].jobLateness = max(0, totalFlowTime - jobs[i].weight)\n",
        "    return jobs"
      ]
    },
    {
      "cell_type": "code",
      "execution_count": 7,
      "metadata": {},
      "outputs": [],
      "source": [
        "def drawTable(jobs):\n",
        "    df = pd.DataFrame()\n",
        "    df['Job Sequence'] = [job.job for job in jobs]\n",
        "    df['Processing Time'] = [int(job.processingTime) for job in jobs]\n",
        "    df['Flow Time'] = [int(job.flowTime) for job in jobs]\n",
        "    df['Due Date'] = [job.weight for job in jobs]\n",
        "    df['Job Lateness'] = [int(job.jobLateness) for job in jobs]\n",
        "\n",
        "    # add a row to the dataframe\n",
        "    df.loc['Total', 'Job Sequence'] = 'Total'\n",
        "    df.loc['Total', 'Processing Time'] = df['Processing Time'].sum()\n",
        "    df.loc['Total', 'Flow Time'] = df['Flow Time'].sum()\n",
        "    df.loc['Total', 'Due Date'] = df['Due Date'].sum()\n",
        "    df.loc['Total', 'Job Lateness'] = df['Job Lateness'].sum()\n",
        "\n",
        "    # remove the trailing zero\n",
        "    df['Processing Time'] = df['Processing Time'].astype(int)\n",
        "    df['Flow Time'] = df['Flow Time'].astype(int)\n",
        "    df['Due Date'] = df['Due Date'].astype(int)\n",
        "    df['Job Lateness'] = df['Job Lateness'].astype(int)\n",
        "\n",
        "    df.style.set_properties(**{'text-align': 'center'}).set_table_styles([dict(selector='th', props=[('text-align', 'center')])]).hide(axis=\"index\")\n",
        "    return df"
      ]
    },
    {
      "cell_type": "code",
      "execution_count": 8,
      "metadata": {},
      "outputs": [],
      "source": [
        "def calculateStatistic(jobs):\n",
        "    df = pd.DataFrame()\n",
        "    df['Job Sequence'] = [job.job for job in jobs]\n",
        "    df['Processing Time'] = [int(job.processingTime) for job in jobs]\n",
        "    df['Flow Time'] = [int(job.flowTime) for job in jobs]\n",
        "    df['Due Date'] = [job.weight for job in jobs]\n",
        "    df['Job Lateness'] = [int(job.jobLateness) for job in jobs]\n",
        "    \n",
        "    print(\"Average completion time = \", df['Flow Time'].mean(), \"days\")\n",
        "    print(\"Utilization metric = \", ((df['Processing Time'].sum()) / (df['Flow Time'].sum()) * 100).round(1), \"%\")\n",
        "    print(\"Average number of jobs in the system = \", (df['Flow Time'].sum() / df['Processing Time'].sum()).round(2), \"jobs\")\n",
        "    print(\"Average job lateness = \", df['Job Lateness'].mean(), \"days\")"
      ]
    },
    {
      "cell_type": "code",
      "execution_count": 9,
      "metadata": {},
      "outputs": [],
      "source": [
        "def ganntChart(jobs):\n",
        "    jobs = jobs.copy()\n",
        "    jobs.reverse()\n",
        "\n",
        "    fig, ax = plt.subplots()\n",
        "    ax.set_title('Gantt Chart')\n",
        "    ax.set_xlabel('Time')\n",
        "    ax.set_ylabel('Job Sequence')\n",
        "    ax.set_yticks(range(len(jobs)))\n",
        "    ax.set_yticklabels([job.job for job in jobs])\n",
        "    ax.grid(True)\n",
        "\n",
        "    cmap = plt.colormaps.get_cmap('Paired')\n",
        "    colors = [cmap(i / len(jobs)) for i in range(len(jobs))]\n",
        "\n",
        "    totalFlowTime = jobs[0].flowTime\n",
        "\n",
        "    for i in range(len(jobs)):\n",
        "        totalFlowTime -= jobs[i].processingTime\n",
        "        ax.broken_barh([(totalFlowTime, jobs[i].processingTime)], (i-0.4, 0.8), facecolors=(colors[i]))\n",
        "\n",
        "    plt.show()"
      ]
    },
    {
      "cell_type": "markdown",
      "metadata": {},
      "source": [
        "## 4.1. First Come First Served (FCFS)"
      ]
    },
    {
      "cell_type": "code",
      "execution_count": null,
      "metadata": {},
      "outputs": [],
      "source": [
        "print(\"FCFS: Sequence \", end=\"\")\n",
        "fcfs_jobs = jobs.copy()\n",
        "printJobs(fcfs_jobs)"
      ]
    },
    {
      "cell_type": "code",
      "execution_count": 11,
      "metadata": {},
      "outputs": [],
      "source": [
        "fcfs_jobs = calculateFlowTime(fcfs_jobs)"
      ]
    },
    {
      "cell_type": "code",
      "execution_count": null,
      "metadata": {},
      "outputs": [],
      "source": [
        "drawTable(fcfs_jobs)"
      ]
    },
    {
      "cell_type": "code",
      "execution_count": null,
      "metadata": {},
      "outputs": [],
      "source": [
        "calculateStatistic(fcfs_jobs)"
      ]
    },
    {
      "cell_type": "code",
      "execution_count": null,
      "metadata": {},
      "outputs": [],
      "source": [
        "ganntChart(fcfs_jobs)"
      ]
    },
    {
      "cell_type": "markdown",
      "metadata": {},
      "source": [
        "## 4.2. Shortest Processing Time (SPT)"
      ]
    },
    {
      "cell_type": "code",
      "execution_count": 15,
      "metadata": {},
      "outputs": [],
      "source": [
        "spt_jobs = jobs.copy()\n",
        "spt_jobs = sorted(spt_jobs, key=lambda x: x.processingTime)"
      ]
    },
    {
      "cell_type": "code",
      "execution_count": null,
      "metadata": {},
      "outputs": [],
      "source": [
        "print(\"SPT: Sequence \", end=\"\")\n",
        "printJobs(spt_jobs)\n",
        "spt_jobs = calculateFlowTime(spt_jobs)"
      ]
    },
    {
      "cell_type": "code",
      "execution_count": null,
      "metadata": {},
      "outputs": [],
      "source": [
        "drawTable(spt_jobs)"
      ]
    },
    {
      "cell_type": "code",
      "execution_count": null,
      "metadata": {},
      "outputs": [],
      "source": [
        "print(\"Objective function value: min(Cmax) = \", sum([job.flowTime for job in spt_jobs])) "
      ]
    },
    {
      "cell_type": "code",
      "execution_count": null,
      "metadata": {},
      "outputs": [],
      "source": [
        "calculateStatistic(spt_jobs)"
      ]
    },
    {
      "cell_type": "code",
      "execution_count": null,
      "metadata": {},
      "outputs": [],
      "source": [
        "ganntChart(spt_jobs)"
      ]
    },
    {
      "cell_type": "markdown",
      "metadata": {},
      "source": [
        "## 4.3. Earliest Due Date (EDD)"
      ]
    },
    {
      "cell_type": "code",
      "execution_count": null,
      "metadata": {},
      "outputs": [],
      "source": [
        "edd_jobs = jobs.copy()\n",
        "edd_jobs = sorted(edd_jobs, key=lambda x: x.weight)\n",
        "print(\"EDD: Sequence \", end=\"\")\n",
        "printJobs(edd_jobs)\n",
        "edd_jobs = calculateFlowTime(edd_jobs)"
      ]
    },
    {
      "cell_type": "code",
      "execution_count": null,
      "metadata": {},
      "outputs": [],
      "source": [
        "drawTable(edd_jobs)"
      ]
    },
    {
      "cell_type": "code",
      "execution_count": null,
      "metadata": {},
      "outputs": [],
      "source": [
        "print(\"Objective function value: min(Lmax) = \", sum([job.jobLateness for job in spt_jobs])) "
      ]
    },
    {
      "cell_type": "code",
      "execution_count": null,
      "metadata": {},
      "outputs": [],
      "source": [
        "calculateStatistic(edd_jobs)"
      ]
    },
    {
      "cell_type": "code",
      "execution_count": null,
      "metadata": {},
      "outputs": [],
      "source": [
        "ganntChart(edd_jobs)"
      ]
    },
    {
      "cell_type": "markdown",
      "metadata": {},
      "source": [
        "## 4.4. Longest Processing Time (LPT)"
      ]
    },
    {
      "cell_type": "code",
      "execution_count": null,
      "metadata": {},
      "outputs": [],
      "source": [
        "lpt_jobs = jobs.copy()\n",
        "lpt_jobs = sorted(lpt_jobs, key=lambda x: x.processingTime, reverse=True)\n",
        "print(\"LPT: Sequence \", end=\"\")\n",
        "printJobs(lpt_jobs)\n",
        "lpt_jobs = calculateFlowTime(lpt_jobs)"
      ]
    },
    {
      "cell_type": "code",
      "execution_count": null,
      "metadata": {},
      "outputs": [],
      "source": [
        "drawTable(lpt_jobs)"
      ]
    },
    {
      "cell_type": "code",
      "execution_count": null,
      "metadata": {},
      "outputs": [],
      "source": [
        "print(\"Objective function value: min(Cmax) = \", sum([job.flowTime for job in spt_jobs])) "
      ]
    },
    {
      "cell_type": "code",
      "execution_count": null,
      "metadata": {},
      "outputs": [],
      "source": [
        "calculateStatistic(lpt_jobs)"
      ]
    },
    {
      "cell_type": "code",
      "execution_count": null,
      "metadata": {},
      "outputs": [],
      "source": [
        "ganntChart(lpt_jobs)"
      ]
    }
  ],
  "metadata": {
    "colab": {
      "authorship_tag": "ABX9TyMm9YpaxwNaVn90g3IslRfW",
      "include_colab_link": true,
      "provenance": []
    },
    "kernelspec": {
      "display_name": "Python 3",
      "name": "python3"
    },
    "language_info": {
      "codemirror_mode": {
        "name": "ipython",
        "version": 3
      },
      "file_extension": ".py",
      "mimetype": "text/x-python",
      "name": "python",
      "nbconvert_exporter": "python",
      "pygments_lexer": "ipython3",
      "version": "3.9.12"
    }
  },
  "nbformat": 4,
  "nbformat_minor": 0
}
