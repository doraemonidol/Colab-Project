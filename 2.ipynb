{
  "cells": [
    {
      "cell_type": "markdown",
      "metadata": {
        "colab_type": "text",
        "id": "view-in-github"
      },
      "source": [
        "<a href=\"https://colab.research.google.com/github/doraemonidol/Colab-Project/blob/main/FCFS.ipynb\" target=\"_parent\"><img src=\"https://colab.research.google.com/assets/colab-badge.svg\" alt=\"Open In Colab\"/></a>"
      ]
    },
    {
      "cell_type": "markdown",
      "metadata": {},
      "source": [
        "# 1. Import Library"
      ]
    },
    {
      "cell_type": "code",
      "execution_count": 67,
      "metadata": {},
      "outputs": [],
      "source": [
        "import pandas as pd\n",
        "import matplotlib as mpl\n",
        "import matplotlib.pyplot as plt"
      ]
    },
    {
      "cell_type": "markdown",
      "metadata": {},
      "source": [
        "# 2. Job Class"
      ]
    },
    {
      "cell_type": "code",
      "execution_count": 68,
      "metadata": {
        "id": "oCCBna8bNpjH"
      },
      "outputs": [],
      "source": [
        "class JobSequence:\n",
        "    def __init__(self, job, processingTime, weight):\n",
        "        self.job = job\n",
        "        self.processingTime = processingTime\n",
        "        self.weight = weight"
      ]
    },
    {
      "cell_type": "markdown",
      "metadata": {},
      "source": [
        "# 3. Input"
      ]
    },
    {
      "cell_type": "markdown",
      "metadata": {},
      "source": [
        "## 3.1. Input from File"
      ]
    },
    {
      "cell_type": "code",
      "execution_count": 69,
      "metadata": {},
      "outputs": [],
      "source": [
        "jobs = []\n",
        "# Read data from data.txt\n",
        "with open('data.txt', 'r') as f:\n",
        "    for line in f:\n",
        "        job, processingTime, weight = line.split(';')\n",
        "        jobs.append(JobSequence(job, int(processingTime), int(weight)))"
      ]
    },
    {
      "cell_type": "markdown",
      "metadata": {},
      "source": [
        "## 3.2. Input from Keyboard"
      ]
    },
    {
      "cell_type": "code",
      "execution_count": 70,
      "metadata": {},
      "outputs": [],
      "source": [
        "# print(\"Enter the number of jobs: \")\n",
        "# n = int(input())\n",
        "# jobs = []\n",
        "# for i in range(n):\n",
        "#     print(\"Enter the processing time and due date for job \", i+1, \":\")\n",
        "#     print(\"  + Job name: \", end = \"\")\n",
        "#     job = input()\n",
        "#     print(\"  + Processing Time: \", end = \"\")\n",
        "#     processingTime = int(input())\n",
        "#     print(\"  + Weight: \", end = \"\")\n",
        "#     weight = int(input())\n",
        "#     jobs.append(JobSequence(job, processingTime, weight))"
      ]
    },
    {
      "cell_type": "markdown",
      "metadata": {},
      "source": [
        "# 4. Sequencing Jobs"
      ]
    },
    {
      "cell_type": "code",
      "execution_count": 71,
      "metadata": {},
      "outputs": [],
      "source": [
        "def printJobs(jobs):\n",
        "    for job in jobs:\n",
        "        if job != jobs[-1]:\n",
        "            print(job.job, end = \"-\")\n",
        "        else:\n",
        "            print(job.job, end = \"\")"
      ]
    },
    {
      "cell_type": "code",
      "execution_count": 72,
      "metadata": {},
      "outputs": [],
      "source": [
        "def calculateFlowTime(jobs):\n",
        "    totalFlowTime = 0\n",
        "    for i in range(len(jobs)):\n",
        "        totalFlowTime += jobs[i].processingTime\n",
        "        jobs[i].flowTime = totalFlowTime\n",
        "    return jobs"
      ]
    },
    {
      "cell_type": "code",
      "execution_count": 73,
      "metadata": {},
      "outputs": [],
      "source": [
        "def drawTable(jobs):\n",
        "    df = pd.DataFrame()\n",
        "    df['Job Sequence'] = [job.job for job in jobs]\n",
        "    df['Processing Time'] = [int(job.processingTime) for job in jobs]\n",
        "    df['Flow Time'] = [int(job.flowTime) for job in jobs]\n",
        "    df['Weight'] = [job.weight for job in jobs]\n",
        "\n",
        "    # add a row to the dataframe\n",
        "    df.loc['Total', 'Job Sequence'] = 'Total'\n",
        "    df.loc['Total', 'Processing Time'] = df['Processing Time'].sum()\n",
        "    df.loc['Total', 'Flow Time'] = df['Flow Time'].sum()\n",
        "    df.loc['Total', 'Weight'] = df['Weight'].sum()\n",
        "\n",
        "    # remove the trailing zero\n",
        "    df['Processing Time'] = df['Processing Time'].astype(int)\n",
        "    df['Flow Time'] = df['Flow Time'].astype(int)\n",
        "    df['Weight'] = df['Weight'].astype(int)\n",
        "\n",
        "    df.style.set_properties(**{'text-align': 'center'}).set_table_styles([dict(selector='th', props=[('text-align', 'center')])]).hide(axis=\"index\")\n",
        "    return df"
      ]
    },
    {
      "cell_type": "code",
      "execution_count": 74,
      "metadata": {},
      "outputs": [],
      "source": [
        "def calculateStatistic(jobs):\n",
        "    df = pd.DataFrame()\n",
        "    df['Job Sequence'] = [job.job for job in jobs]\n",
        "    df['Processing Time'] = [int(job.processingTime) for job in jobs]\n",
        "    df['Flow Time'] = [int(job.flowTime) for job in jobs]\n",
        "    df['Weight'] = [job.weight for job in jobs]\n",
        "    \n",
        "    print(\"Average completion time = \", df['Flow Time'].mean(), \"days\")\n",
        "    print(\"Utilization metric = \", ((df['Processing Time'].sum()) / (df['Flow Time'].sum()) * 100).round(1), \"%\")\n",
        "    print(\"Average number of jobs in the system = \", (df['Flow Time'].sum() / df['Processing Time'].sum()).round(2), \"jobs\")"
      ]
    },
    {
      "cell_type": "code",
      "execution_count": 75,
      "metadata": {},
      "outputs": [],
      "source": [
        "def ganntChart(jobs):\n",
        "    jobs = jobs.copy()\n",
        "    jobs.reverse()\n",
        "\n",
        "    fig, ax = plt.subplots()\n",
        "    ax.set_title('Gantt Chart')\n",
        "    ax.set_xlabel('Time')\n",
        "    ax.set_ylabel('Job Sequence')\n",
        "    ax.set_yticks(range(len(jobs)))\n",
        "    ax.set_yticklabels([job.job for job in jobs])\n",
        "    ax.grid(True)\n",
        "\n",
        "    cmap = plt.colormaps.get_cmap('Paired')\n",
        "    colors = [cmap(i / len(jobs)) for i in range(len(jobs))]\n",
        "\n",
        "    totalFlowTime = jobs[0].flowTime\n",
        "\n",
        "    for i in range(len(jobs)):\n",
        "        totalFlowTime -= jobs[i].processingTime\n",
        "        ax.broken_barh([(totalFlowTime, jobs[i].processingTime)], (i-0.4, 0.8), facecolors=(colors[i]))\n",
        "\n",
        "    plt.show()"
      ]
    },
    {
      "cell_type": "markdown",
      "metadata": {},
      "source": [
        "## 4.5. Weighted Shortest Processing Time (WSPT)"
      ]
    },
    {
      "cell_type": "code",
      "execution_count": 76,
      "metadata": {},
      "outputs": [],
      "source": [
        "wspt_jobs = jobs.copy()\n",
        "wspt_jobs = sorted(wspt_jobs, key = lambda x: x.processingTime/x.weight)"
      ]
    },
    {
      "cell_type": "code",
      "execution_count": null,
      "metadata": {},
      "outputs": [],
      "source": [
        "print(\"WSPT: Sequence \", end=\"\")\n",
        "printJobs(wspt_jobs)\n",
        "wspt_jobs = calculateFlowTime(wspt_jobs)"
      ]
    },
    {
      "cell_type": "code",
      "execution_count": null,
      "metadata": {},
      "outputs": [],
      "source": [
        "drawTable(wspt_jobs)"
      ]
    },
    {
      "cell_type": "code",
      "execution_count": null,
      "metadata": {},
      "outputs": [],
      "source": [
        "print(\"Objective function value: min = \", sum([job.weight * job.flowTime for job in wspt_jobs]))"
      ]
    },
    {
      "cell_type": "code",
      "execution_count": null,
      "metadata": {},
      "outputs": [],
      "source": [
        "calculateStatistic(wspt_jobs)"
      ]
    },
    {
      "cell_type": "code",
      "execution_count": null,
      "metadata": {},
      "outputs": [],
      "source": [
        "ganntChart(wspt_jobs)"
      ]
    }
  ],
  "metadata": {
    "colab": {
      "authorship_tag": "ABX9TyMm9YpaxwNaVn90g3IslRfW",
      "include_colab_link": true,
      "provenance": []
    },
    "kernelspec": {
      "display_name": "Python 3",
      "name": "python3"
    },
    "language_info": {
      "codemirror_mode": {
        "name": "ipython",
        "version": 3
      },
      "file_extension": ".py",
      "mimetype": "text/x-python",
      "name": "python",
      "nbconvert_exporter": "python",
      "pygments_lexer": "ipython3",
      "version": "3.9.12"
    }
  },
  "nbformat": 4,
  "nbformat_minor": 0
}
