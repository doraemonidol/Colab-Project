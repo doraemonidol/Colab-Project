{
  "cells": [
    {
      "cell_type": "markdown",
      "metadata": {
        "colab_type": "text",
        "id": "view-in-github"
      },
      "source": [
        "<a href=\"https://colab.research.google.com/github/doraemonidol/Colab-Project/blob/main/FCFS.ipynb\" target=\"_parent\"><img src=\"https://colab.research.google.com/assets/colab-badge.svg\" alt=\"Open In Colab\"/></a>"
      ]
    },
    {
      "cell_type": "markdown",
      "metadata": {},
      "source": [
        "# 1. Import Library"
      ]
    },
    {
      "cell_type": "code",
      "execution_count": 185,
      "metadata": {},
      "outputs": [],
      "source": [
        "import pandas as pd\n",
        "import matplotlib as mpl\n",
        "import matplotlib.pyplot as plt"
      ]
    },
    {
      "cell_type": "markdown",
      "metadata": {},
      "source": [
        "# 2. Job Class"
      ]
    },
    {
      "cell_type": "code",
      "execution_count": 186,
      "metadata": {
        "id": "oCCBna8bNpjH"
      },
      "outputs": [],
      "source": [
        "class JobSequence:\n",
        "    def __init__(self, job, processingTime, releaseTime):\n",
        "        self.job = job\n",
        "        self.processingTime = processingTime\n",
        "        self.releaseTime = releaseTime\n",
        "        self.startTime = 0\n",
        "        self.duration = 0"
      ]
    },
    {
      "cell_type": "markdown",
      "metadata": {},
      "source": [
        "# 3. Input"
      ]
    },
    {
      "cell_type": "markdown",
      "metadata": {},
      "source": [
        "## 3.1. Input from File"
      ]
    },
    {
      "cell_type": "code",
      "execution_count": 187,
      "metadata": {},
      "outputs": [],
      "source": [
        "jobs = []\n",
        "\n",
        "with open('data.txt', 'r') as f:\n",
        "    for line in f:\n",
        "        job, processingTime, releaseTime = line.split(';')\n",
        "        jobs.append(JobSequence(job, int(releaseTime), int(processingTime)))"
      ]
    },
    {
      "cell_type": "markdown",
      "metadata": {},
      "source": [
        "## 3.2. Input from Keyboard"
      ]
    },
    {
      "cell_type": "code",
      "execution_count": null,
      "metadata": {},
      "outputs": [],
      "source": [
        "print(\"Enter the number of jobs: \")\n",
        "n = int(input())\n",
        "jobs = []\n",
        "for i in range(n):\n",
        "    print(\"Enter the processing time and due date for job \", i+1, \":\")\n",
        "    print(\"  + Job name: \", end = \"\")\n",
        "    job = input()\n",
        "    print(\"  + Processing Time: \", end = \"\")\n",
        "    processingTime = int(input())\n",
        "    print(\"  + Release Time: \", end = \"\")\n",
        "    releaseTime = int(input())\n",
        "    jobs.append(JobSequence(job, releaseTime, processingTime))"
      ]
    },
    {
      "cell_type": "markdown",
      "metadata": {},
      "source": [
        "# 4. Sequencing Jobs"
      ]
    },
    {
      "cell_type": "code",
      "execution_count": 172,
      "metadata": {},
      "outputs": [],
      "source": [
        "def printJobs(jobs):\n",
        "    for job in jobs:\n",
        "        if job != jobs[-1]:\n",
        "            print(job.job, end = \"-\")\n",
        "        else:\n",
        "            print(job.job, end = \"\")"
      ]
    },
    {
      "cell_type": "code",
      "execution_count": 183,
      "metadata": {},
      "outputs": [],
      "source": [
        "def ganntChart(jobs, initialJobs):\n",
        "    # jobs = jobs.copy()\n",
        "    # jobs.reverse()\n",
        "\n",
        "    fig, ax = plt.subplots()\n",
        "    ax.set_title('Gantt Chart')\n",
        "    ax.set_xlabel('Time')\n",
        "    ax.set_ylabel('Job Sequence')\n",
        "    ax.set_yticks(range(1))\n",
        "    ax.set_yticklabels([\"\"])\n",
        "    ax.grid(True)\n",
        "\n",
        "    cmap = plt.colormaps.get_cmap('Paired')\n",
        "    colors = [cmap(i / len(jobs)) for i in range(len(initialJobs))]\n",
        "\n",
        "    totalFlowTime = 0\n",
        "\n",
        "    for i in range(len(jobs)):\n",
        "        ax.broken_barh([(totalFlowTime, jobs[i][1])], (i - 0.4, 0.8), facecolors=(colors[initialJobs.index(jobs[i][0])]))\n",
        "        ax.text(totalFlowTime + jobs[i][1] / 2, i, jobs[i][0], ha='center', va='center', color='black')\n",
        "        totalFlowTime += jobs[i][1]\n",
        "\n",
        "    plt.show()"
      ]
    },
    {
      "cell_type": "markdown",
      "metadata": {},
      "source": [
        "## 4.6. Shortest Remaining Processing Time (SRPT)"
      ]
    },
    {
      "cell_type": "code",
      "execution_count": 174,
      "metadata": {},
      "outputs": [],
      "source": [
        "srpt_jobs = jobs.copy()\n",
        "srpt_jobs.sort(key = lambda x: x.releaseTime)"
      ]
    },
    {
      "cell_type": "code",
      "execution_count": null,
      "metadata": {},
      "outputs": [],
      "source": [
        "releaseList = [job.releaseTime for job in srpt_jobs]\n",
        "releaseTime = releaseList[1:]\n",
        "\n",
        "current_time = srpt_jobs[0].releaseTime\n",
        "nextReleaseTime = srpt_jobs[1].releaseTime\n",
        "scheduled_jobs = []\n",
        "\n",
        "while len(srpt_jobs) > 0:\n",
        "    available_jobs = [job for job in srpt_jobs if job.releaseTime <= current_time]\n",
        "    available_jobs.sort(key = lambda x: x.processingTime)\n",
        "    # nextTime = min(nextReleaseTime, current_time + available_jobs[0].processingTime)\n",
        "    nextTime = 0\n",
        "    if nextReleaseTime == 0:\n",
        "        nextTime = current_time + available_jobs[0].processingTime\n",
        "    elif (nextReleaseTime < current_time + available_jobs[0].processingTime):\n",
        "        nextTime = nextReleaseTime\n",
        "        nextReleaseTime = 0\n",
        "        for job in srpt_jobs:\n",
        "            if job.releaseTime > nextTime:\n",
        "                nextReleaseTime = job.releaseTime\n",
        "                break\n",
        "    else:\n",
        "        nextTime = current_time + available_jobs[0].processingTime\n",
        "        nextReleaseTime = 0\n",
        "        for job in srpt_jobs:\n",
        "            if job.releaseTime > nextTime:\n",
        "                nextReleaseTime = job.releaseTime\n",
        "                break\n",
        "    available_jobs[0].processingTime -= nextTime - current_time\n",
        "    scheduled_jobs.append((available_jobs[0].job, nextTime - current_time))\n",
        "    \n",
        "    if available_jobs[0].processingTime == 0:\n",
        "        srpt_jobs.remove(available_jobs[0])\n",
        "    current_time = nextTime\n",
        "\n",
        "print(\"SRPT Schedule: \")\n",
        "for job in scheduled_jobs:\n",
        "    print(job[0], \":\", job[1], \"days\")"
      ]
    },
    {
      "cell_type": "code",
      "execution_count": null,
      "metadata": {},
      "outputs": [],
      "source": [
        "print(\"Objective function value: min(Cmax) = \", current_time, \"days\")"
      ]
    },
    {
      "cell_type": "code",
      "execution_count": null,
      "metadata": {},
      "outputs": [],
      "source": [
        "ganntChart(scheduled_jobs, [job.job for job in jobs])"
      ]
    }
  ],
  "metadata": {
    "colab": {
      "authorship_tag": "ABX9TyMm9YpaxwNaVn90g3IslRfW",
      "include_colab_link": true,
      "provenance": []
    },
    "kernelspec": {
      "display_name": "Python 3",
      "name": "python3"
    },
    "language_info": {
      "codemirror_mode": {
        "name": "ipython",
        "version": 3
      },
      "file_extension": ".py",
      "mimetype": "text/x-python",
      "name": "python",
      "nbconvert_exporter": "python",
      "pygments_lexer": "ipython3",
      "version": "3.9.12"
    }
  },
  "nbformat": 4,
  "nbformat_minor": 0
}
